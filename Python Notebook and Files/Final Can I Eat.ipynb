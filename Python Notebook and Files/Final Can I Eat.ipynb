{
 "cells": [
  {
   "cell_type": "code",
   "execution_count": 1,
   "metadata": {
    "collapsed": true
   },
   "outputs": [],
   "source": [
    "import tweepy, time, sys\n",
    " \n",
    "CONSUMER_KEY = 'q6DwOM3Cu3BHsBnXw0AZVCpji'\n",
    "CONSUMER_SECRET = 'kGX1PJMM43Arlk0lfD29tdZ32F5LMcRF9RMOfKwZ1NjCA2MzTE'\n",
    "ACCESS_TOKEN = '868548481895596032-fPCd4dUXwc3QW3lZzY7BdFuK2AOzyuQ'\n",
    "ACCESS_SECRET = 'fRwe6h3JQ2rmXgB01eLBNRFN25VfRc3OMNH2OdPvDLuyW'\n",
    "auth = tweepy.OAuthHandler(CONSUMER_KEY, CONSUMER_SECRET)\n",
    "auth.set_access_token(ACCESS_TOKEN, ACCESS_SECRET)\n",
    "api = tweepy.API(auth) "
   ]
  },
  {
   "cell_type": "code",
   "execution_count": 2,
   "metadata": {
    "collapsed": true
   },
   "outputs": [],
   "source": [
    "def checkName(name):\n",
    "    f = open(\"users.txt\")\n",
    "    file = f.read()\n",
    "    #file = str(file)\n",
    "    #Now to search the file\n",
    "    loc = file.find(name)\n",
    "    if(loc is not -1):\n",
    "        return True\n",
    "    else:\n",
    "        return False"
   ]
  },
  {
   "cell_type": "code",
   "execution_count": 3,
   "metadata": {
    "collapsed": true
   },
   "outputs": [],
   "source": [
    "def get_line_number(phrase, file_name):\n",
    "    with open(file_name) as f:\n",
    "        for i, line in enumerate(f, 1):\n",
    "            if phrase in line:\n",
    "                return i\n",
    "    return -1"
   ]
  },
  {
   "cell_type": "code",
   "execution_count": 4,
   "metadata": {
    "collapsed": true
   },
   "outputs": [],
   "source": [
    "def getAllergyList(num,file_name):\n",
    "    line = num\n",
    "    f=open(file_name)\n",
    "    lines=f.readlines()\n",
    "    allergy = (lines[num-1]).strip(' \\n\\t')\n",
    "    print(allergy)\n",
    "    return(allergy)"
   ]
  },
  {
   "cell_type": "code",
   "execution_count": 5,
   "metadata": {
    "collapsed": true
   },
   "outputs": [],
   "source": [
    "def parseAllergy(allergy):\n",
    "    allergies = allergy.split(\",\")\n",
    "    return(allergies)"
   ]
  },
  {
   "cell_type": "code",
   "execution_count": 6,
   "metadata": {
    "collapsed": true
   },
   "outputs": [],
   "source": [
    "def checkEat(allergy,food):\n",
    "    if allergy in food:\n",
    "        return True"
   ]
  },
  {
   "cell_type": "code",
   "execution_count": 7,
   "metadata": {
    "collapsed": false
   },
   "outputs": [],
   "source": [
    "#the message will have text then this ----> burrito(chipotle)\n",
    "\n",
    "def getFood(text):\n",
    "    temp = text.split(\" \")\n",
    "    print(temp)\n",
    "    new = []    \n",
    "    for i in range(len(temp)):        \n",
    "        if(temp[i].find('(') > -1 and temp[i].find(')') > -1):\n",
    "            new.append(temp[i])\n",
    "    print(new)\n",
    "    #extracted food(company)\n",
    "    print('new[0] ' + new[0])\n",
    "    food = new[0][:new[0].find('(')]\n",
    "    company = new[0][new[0].find('(')+1:new[0].find(')')]\n",
    "    return food,company"
   ]
  },
  {
   "cell_type": "code",
   "execution_count": 8,
   "metadata": {
    "collapsed": true
   },
   "outputs": [],
   "source": [
    "def error():\n",
    "    print('error')\n",
    "    #api.update_status('Sorry, at the moment we can account for this menu item. We will be updating our services to account for this.')"
   ]
  },
  {
   "cell_type": "code",
   "execution_count": 9,
   "metadata": {
    "collapsed": true
   },
   "outputs": [],
   "source": [
    "def tweet(tweety):\n",
    "    api.update_status(tweety)"
   ]
  },
  {
   "cell_type": "code",
   "execution_count": 127,
   "metadata": {
    "collapsed": false
   },
   "outputs": [
    {
     "data": {
      "text/plain": [
       "'def checkEat(allergy, food , company):\\n    allergy = allergy.strip(\\' \\n\\t\\')\\n    print(food)\\n    food = food.strip(\\' \\n\\t\\')\\n    food = food.lstrip()\\n    print(food)\\n    company = company.strip(\\' \\n\\t\\')\\n    companyList = [\\'mcdonalds\\',\\'chipotle\\',\\'subway\\',\\'einstein\\']\\n    if(company not in companyList):\\n        print(company + \"company\")\\n        tweet(\\'We have not yet converted this companies files into our databases. They will be updated soon!\\')\\n        return False, False\\n    if(company.lower() == \\'mcdonalds\\'): #do this for the 5 companies we have\\n        #search for food\\n        #get the line number\\n        foodLine = get_line_number(food,\\'data/mcdonalds.txt\\')\\n        if(foodLine == -1):\\n            error()\\n            print(\\'not in list\\')\\n            return False, False\\n        else:\\n            print(foodLine)\\n            f=open(\\'data/mcdonalds.txt\\')\\n            lines=f.readlines()\\n            allergens = lines[foodLine] \\n            allergens = allergens.strip(\\' \\n\\t\\')\\n            print(allergens + \" look for \" + allergy)\\n            if (allergens.find(allergy) >-1):\\n                print(\\'FOUND\\')\\n                print(\\'Works\\')\\n                return True, \\'False\\'\\n            else:\\n                print(\"Didn\\'t Work\")                \\n                return False, \\'True\\'\\n    elif(company.lower() == \\'chipotle\\'):\\n        foodLine = get_line_number(food,\\'data/chipotle.txt\\')\\n        if(food is not -1):\\n            error()\\n            return False, False\\n        else:\\n            f=open(\\'/data/chipotle.txt\\')\\n            lines=f.readlines()\\n            allergens = lines[foodLine]\\n            allergens = allergens.strip(\\' \\n\\t\\')\\n            if (allergy.find(allergen) >-1):\\n                return True, True\\n    elif(company.lower() == \\'subway\\'):\\n        foodLine = get_line_number(food,\\'/data/subway.txt\\')\\n        if(food is not -1):\\n            error()\\n            return False, False\\n        else:\\n            f=open(\\'/data/subway.txt\\')\\n            lines=f.readlines()\\n            allergens = lines[foodLine]\\n            if (allergy.find(allergen) >-1):\\n                return True, True\\n    elif(company.lower() == einstein):        \\n        foodLine = get_line_number(food,\\'/data/einstein.txt\\')\\n        if(food is not -1):\\n            error()\\n            return False, False\\n        else:\\n            f=open(\\'/data/einstein.txt\\')\\n            lines=f.readlines()\\n            allergens = lines[foodLine]\\n            if (allergy.find(allergen) >-1):\\n                return True, True\\n    else:\\n        print(\\'NOT FOUND\\')'"
      ]
     },
     "execution_count": 127,
     "metadata": {},
     "output_type": "execute_result"
    }
   ],
   "source": [
    "'''def checkEat(allergy, food , company):\n",
    "    allergy = allergy.strip(' \\n\\t')\n",
    "    print(food)\n",
    "    food = food.strip(' \\n\\t')\n",
    "    food = food.lstrip()\n",
    "    print(food)\n",
    "    company = company.strip(' \\n\\t')\n",
    "    companyList = ['mcdonalds','chipotle','subway','einstein']\n",
    "    if(company not in companyList):\n",
    "        print(company + \"company\")\n",
    "        tweet('We have not yet converted this companies files into our databases. They will be updated soon!')\n",
    "        return False, False\n",
    "    if(company.lower() == 'mcdonalds'): #do this for the 5 companies we have\n",
    "        #search for food\n",
    "        #get the line number\n",
    "        foodLine = get_line_number(food,'data/mcdonalds.txt')\n",
    "        if(foodLine == -1):\n",
    "            error()\n",
    "            print('not in list')\n",
    "            return False, False\n",
    "        else:\n",
    "            print(foodLine)\n",
    "            f=open('data/mcdonalds.txt')\n",
    "            lines=f.readlines()\n",
    "            allergens = lines[foodLine] \n",
    "            allergens = allergens.strip(' \\n\\t')\n",
    "            print(allergens + \" look for \" + allergy)\n",
    "            if (allergens.find(allergy) >-1):\n",
    "                print('FOUND')\n",
    "                print('Works')\n",
    "                return True, 'False'\n",
    "            else:\n",
    "                print(\"Didn't Work\")                \n",
    "                return False, 'True'\n",
    "    elif(company.lower() == 'chipotle'):\n",
    "        foodLine = get_line_number(food,'data/chipotle.txt')\n",
    "        if(food is not -1):\n",
    "            error()\n",
    "            return False, False\n",
    "        else:\n",
    "            f=open('/data/chipotle.txt')\n",
    "            lines=f.readlines()\n",
    "            allergens = lines[foodLine]\n",
    "            allergens = allergens.strip(' \\n\\t')\n",
    "            if (allergy.find(allergen) >-1):\n",
    "                return True, True\n",
    "    elif(company.lower() == 'subway'):\n",
    "        foodLine = get_line_number(food,'/data/subway.txt')\n",
    "        if(food is not -1):\n",
    "            error()\n",
    "            return False, False\n",
    "        else:\n",
    "            f=open('/data/subway.txt')\n",
    "            lines=f.readlines()\n",
    "            allergens = lines[foodLine]\n",
    "            if (allergy.find(allergen) >-1):\n",
    "                return True, True\n",
    "    elif(company.lower() == einstein):        \n",
    "        foodLine = get_line_number(food,'/data/einstein.txt')\n",
    "        if(food is not -1):\n",
    "            error()\n",
    "            return False, False\n",
    "        else:\n",
    "            f=open('/data/einstein.txt')\n",
    "            lines=f.readlines()\n",
    "            allergens = lines[foodLine]\n",
    "            if (allergy.find(allergen) >-1):\n",
    "                return True, True\n",
    "    else:\n",
    "        print('NOT FOUND')'''"
   ]
  },
  {
   "cell_type": "code",
   "execution_count": 10,
   "metadata": {
    "collapsed": true
   },
   "outputs": [],
   "source": [
    "def checkEat(allergy, food , company):\n",
    "    allergy = allergy.strip(' \\n\\t')\n",
    "    print(food)\n",
    "    food = food.strip(' \\n\\t')\n",
    "    food = food.lstrip()\n",
    "    print(food)\n",
    "    company = company.strip(' \\n\\t')\n",
    "    companyList = ['mcdonalds','chipotle','subway','einstein']\n",
    "    if(company not in companyList):\n",
    "        print(company + \"company\")\n",
    "        tweet('We have not yet converted this companies files into our databases. They will be updated soon!')\n",
    "        return False, False\n",
    "    if(company.lower() == 'mcdonalds'): #do this for the 5 companies we have\n",
    "        #search for food\n",
    "        #get the line number\n",
    "        foodLine = get_line_number(food,'data/mcdonalds.txt')\n",
    "        if(foodLine == -1):\n",
    "            error()\n",
    "            print('not in list')\n",
    "            return False, False\n",
    "        else:\n",
    "            print(foodLine)\n",
    "            f=open('data/mcdonalds.txt')\n",
    "            lines=f.readlines()\n",
    "            allergens = lines[foodLine] \n",
    "            allergens = allergens.strip(' \\n\\t')\n",
    "            print(allergens + \" look for \" + allergy)\n",
    "            if (allergens.find(allergy) >-1):\n",
    "                print('FOUND')\n",
    "                print('Works')\n",
    "                return True, 'False'\n",
    "            else:\n",
    "                print(\"Didn't Work\")                \n",
    "                return False, 'True'\n",
    "    elif(company.lower() == 'chipotle'):\n",
    "        #search for food\n",
    "        #get the line number\n",
    "        foodLine = get_line_number(food,'data/chipotle.txt')\n",
    "        if(foodLine == -1):\n",
    "            error()\n",
    "            print('not in list')\n",
    "            return False, False\n",
    "        else:\n",
    "            print(foodLine)\n",
    "            f=open('data/chipotle.txt')\n",
    "            lines=f.readlines()\n",
    "            allergens = lines[foodLine] \n",
    "            allergens = allergens.strip(' \\n\\t')\n",
    "            print(allergens + \" look for \" + allergy)\n",
    "            if (allergens.find(allergy) >-1):\n",
    "                print('FOUND')\n",
    "                print('Works')\n",
    "                return True, 'False'\n",
    "            else:\n",
    "                print(\"Didn't Work\")                \n",
    "                return False, 'True'\n",
    "                return True, True\n",
    "    elif(company.lower() == 'subway'):\n",
    "           #search for food\n",
    "        #get the line number\n",
    "        foodLine = get_line_number(food,'data/subway.txt')\n",
    "        if(foodLine == -1):\n",
    "            error()\n",
    "            print('not in list')\n",
    "            return False, False\n",
    "        else:\n",
    "            print(foodLine)\n",
    "            f=open('data/subway.txt')\n",
    "            lines=f.readlines()\n",
    "            allergens = lines[foodLine] \n",
    "            allergens = allergens.strip(' \\n\\t')\n",
    "            print(allergens + \" look for \" + allergy)\n",
    "            if (allergens.find(allergy) >-1):\n",
    "                print('FOUND')\n",
    "                print('Works')\n",
    "                return True, 'False'\n",
    "            else:\n",
    "                print(\"Didn't Work\")                \n",
    "                return False, 'True'\n",
    "                return True, True\n",
    "    elif(company.lower() == 'einstein'):        \n",
    "        #search for food\n",
    "        #get the line number\n",
    "        foodLine = get_line_number(food,'data/einstein.txt')\n",
    "        if(foodLine == -1):\n",
    "            error()\n",
    "            print('not in list')\n",
    "            return False, False\n",
    "        else:\n",
    "            print(foodLine)\n",
    "            f=open('data/einstein.txt')\n",
    "            lines=f.readlines()\n",
    "            allergens = lines[foodLine] \n",
    "            allergens = allergens.strip(' \\n\\t')\n",
    "            print(allergens + \" look for \" + allergy)\n",
    "            if (allergens.find(allergy) >-1):\n",
    "                print('FOUND')\n",
    "                print('Works')\n",
    "                return True, 'False'\n",
    "            else:\n",
    "                print(\"Didn't Work\")                \n",
    "                return False, 'True'\n",
    "    else:\n",
    "        print('NOT FOUND')"
   ]
  },
  {
   "cell_type": "code",
   "execution_count": 11,
   "metadata": {
    "collapsed": false
   },
   "outputs": [],
   "source": [
    "def createNew(name,text):    \n",
    "    text_file = open(\"users.txt\", \"a\")\n",
    "    text_file.write(name)\n",
    "    text_file.write(\"\\n\")\n",
    "    text_file.close()\n",
    "    \n",
    "    text_file = open(\"usersAllergy.txt\", \"a\")\n",
    "    text_file.write(text[text.find(\":\")+1:text.find(' ', text.find(\":\")+1)])\n",
    "    text_file.write(\"\\n\")\n",
    "    text_file.close()\n",
    "    \n",
    "    print('Just added the user:' + name)"
   ]
  },
  {
   "cell_type": "code",
   "execution_count": 12,
   "metadata": {
    "collapsed": true
   },
   "outputs": [],
   "source": [
    "def master(text):\n",
    "    name = '_frvition' # get the username of the account sending the tweet\n",
    "    #id_str = status.id_str # get the unique ID of tweet\n",
    "    #text = status.text # get the text of the tweet\n",
    "    original_message_text = text.split(\" \",1)[1] # get the main body of the tweet following the username, @YourHandleHere\n",
    "    print(original_message_text)\n",
    "    message = \"\"\n",
    "    if(checkName(name) and original_message_text.find('allergy')==-1 and original_message_text.find('(')>-1): #return true; this means that the name showed up in file\n",
    "            allergies = getAllergyList(get_line_number(name,'users.txt'),'usersAllergy.txt')\n",
    "            #now we have the allergies for the user\n",
    "            allerArray = parseAllergy(allergies)\n",
    "            print(allerArray)\n",
    "            canEat = True\n",
    "            \n",
    "            #find the food\n",
    "            food,store = getFood(original_message_text)\n",
    "                        \n",
    "            for i in range(len(allerArray)):\n",
    "                print(allerArray[i])\n",
    "                check,tweetRun = checkEat(allerArray[i], food, store)\n",
    "                if(check == True): #If true that means allergen is in food\n",
    "                    canEat = False\n",
    "                    tweetRun = 'False'                    \n",
    "            #tweetRun = True  \n",
    "            #now the variable canEat will represent whether the user can or can not eat the             \n",
    "            if(canEat == True and tweetRun == 'True'):\n",
    "                message = \"Yep, you're good to go!\"\n",
    "            else:\n",
    "                message = \"We recommend choosing a different menu option.\"\n",
    "    elif(original_message_text.find('allergy')>-1):\n",
    "        createNew(name,original_message_text)\n",
    "        message = \" New Allergen Added\"\n",
    "    else:\n",
    "        message = \"You do not have a registered allergy/contact with us. Please tell us your allergy in this format. 'Add:Gluten'. Add as many \"\n",
    "    print()\n",
    "    print(message)"
   ]
  },
  {
   "cell_type": "code",
   "execution_count": 13,
   "metadata": {
    "collapsed": false
   },
   "outputs": [
    {
     "name": "stdout",
     "output_type": "stream",
     "text": [
      "want bigmac(mcdonalds) a\n",
      "\n",
      "You do not have a registered allergy/contact with us. Please tell us your allergy in this format. 'Add:Gluten'. Add as many \n"
     ]
    }
   ],
   "source": [
    "master('i want bigmac(mcdonalds) a')"
   ]
  },
  {
   "cell_type": "code",
   "execution_count": 14,
   "metadata": {
    "collapsed": false
   },
   "outputs": [
    {
     "name": "stdout",
     "output_type": "stream",
     "text": [
      "want test(mcdonalds) a\n",
      "\n",
      "You do not have a registered allergy/contact with us. Please tell us your allergy in this format. 'Add:Gluten'. Add as many \n"
     ]
    }
   ],
   "source": [
    "master('i want test(mcdonalds) a')"
   ]
  },
  {
   "cell_type": "code",
   "execution_count": null,
   "metadata": {
    "collapsed": true
   },
   "outputs": [],
   "source": []
  },
  {
   "cell_type": "code",
   "execution_count": 15,
   "metadata": {
    "collapsed": false
   },
   "outputs": [],
   "source": [
    "class MyStreamListener(tweepy.StreamListener): \n",
    "    def on_status(self,status):\n",
    "        name = status.user.screen_name # get the username of the account sending the tweet\n",
    "        id_str = status.id_str # get the unique ID of tweet\n",
    "        text = status.text # get the text of the tweet\n",
    "        original_message_text = text.split(\" \",1)[1] # get the main body of the tweet following the username, @YourHandleHere\n",
    "        original_message_text = original_message_text.lower()\n",
    "            \n",
    "        #Check if username is in tweet\n",
    "        print(name)\n",
    "        \n",
    "        message = \"\"\n",
    "        if(checkName(name) and original_message_text.find('allergy')==-1 and original_message_text.find('(')>-1): #return true; this means that the name showed up in file\n",
    "                allergies = getAllergyList(get_line_number(name,'users.txt'),'usersAllergy.txt')\n",
    "                #now we have the allergies for the user\n",
    "                allerArray = parseAllergy(allergies)\n",
    "                print(allerArray)\n",
    "                canEat = True\n",
    "\n",
    "                #find the food\n",
    "                food,store = getFood(original_message_text)\n",
    "\n",
    "                for i in range(len(allerArray)):\n",
    "                    print(allerArray[i])\n",
    "                    check,tweetRun = checkEat(allerArray[i], food, store)\n",
    "                    if(check == True): #If true that means allergen is in food\n",
    "                        canEat = False\n",
    "                        tweetRun = 'False'                    \n",
    "                #tweetRun = True  \n",
    "                #now the variable canEat will represent whether the user can or can not eat the             \n",
    "                if(canEat == True and tweetRun == 'True'):\n",
    "                    message = \" Yep, you're good to go!\"\n",
    "                else:\n",
    "                    message = \" We recommend choosing a different menu option.\"\n",
    "        elif(original_message_text.find('allergy')>-1):\n",
    "            createNew(name,original_message_text)\n",
    "            message = \" New Allergen Added\"\n",
    "        else:\n",
    "            message = \" You do not have a registered allergy/contact with us. Please tell us your allergy in this format. 'Add:Gluten' \"\n",
    "        print(message)\n",
    "\n",
    "        reply_tweet = \"@\" + str(name) + message # build a reply tweet\n",
    "        reply_tweet = reply_tweet[:140] #truncate reply to 140 characters\n",
    "        tweet = message\n",
    "        tweet = tweet[:140] #truncate feed tweet to 140 characters\n",
    "        try: # make sure that tweepy doesn't produce an error when you post a status update\n",
    "            if not(message==\"\"):\n",
    "                api.update_status(reply_tweet, in_reply_to_status_id = id_str) #send the reply to the user                \n",
    "                print(status.text)\n",
    "                print(tweet)\n",
    "                print(\"DONE\")\n",
    "        except tweepy.error.TweepError:\n",
    "            pass\n",
    "        \n",
    "        \n",
    "    \n",
    "    def on_error(self,status_code):\n",
    "        if status_code == 420:\n",
    "            return False"
   ]
  },
  {
   "cell_type": "code",
   "execution_count": 16,
   "metadata": {
    "collapsed": false
   },
   "outputs": [
    {
     "name": "stdout",
     "output_type": "stream",
     "text": [
      "sohailkhan_2000\n",
      "Just added the user:sohailkhan_2000\n",
      " New Allergen Added\n",
      "@dietaryasst allergy I wanna add:none\n",
      " New Allergen Added\n",
      "DONE\n",
      "sohailkhan_2000\n",
      "non\n",
      "['non']\n",
      "['can', 'i', 'eat', 'some', 'of', 'them', 'bagel(einstein)']\n",
      "['bagel(einstein)']\n",
      "new[0] bagel(einstein)\n",
      "non\n",
      "bagel\n",
      "bagel\n",
      "1\n",
      "gluten, kosher look for non\n",
      "Didn't Work\n",
      " Yep, you're good to go!\n",
      "@dietaryasst can I eat some of them bagel(Einstein)\n",
      " Yep, you're good to go!\n",
      "DONE\n"
     ]
    },
    {
     "ename": "KeyboardInterrupt",
     "evalue": "",
     "output_type": "error",
     "traceback": [
      "\u001b[0;31m---------------------------------------------------------------------------\u001b[0m",
      "\u001b[0;31mWantReadError\u001b[0m                             Traceback (most recent call last)",
      "\u001b[0;32mC:\\ProgramData\\Anaconda3\\lib\\site-packages\\requests\\packages\\urllib3\\contrib\\pyopenssl.py\u001b[0m in \u001b[0;36mrecv_into\u001b[0;34m(self, *args, **kwargs)\u001b[0m\n\u001b[1;32m    255\u001b[0m         \u001b[1;32mtry\u001b[0m\u001b[1;33m:\u001b[0m\u001b[1;33m\u001b[0m\u001b[0m\n\u001b[0;32m--> 256\u001b[0;31m             \u001b[1;32mreturn\u001b[0m \u001b[0mself\u001b[0m\u001b[1;33m.\u001b[0m\u001b[0mconnection\u001b[0m\u001b[1;33m.\u001b[0m\u001b[0mrecv_into\u001b[0m\u001b[1;33m(\u001b[0m\u001b[1;33m*\u001b[0m\u001b[0margs\u001b[0m\u001b[1;33m,\u001b[0m \u001b[1;33m**\u001b[0m\u001b[0mkwargs\u001b[0m\u001b[1;33m)\u001b[0m\u001b[1;33m\u001b[0m\u001b[0m\n\u001b[0m\u001b[1;32m    257\u001b[0m         \u001b[1;32mexcept\u001b[0m \u001b[0mOpenSSL\u001b[0m\u001b[1;33m.\u001b[0m\u001b[0mSSL\u001b[0m\u001b[1;33m.\u001b[0m\u001b[0mSysCallError\u001b[0m \u001b[1;32mas\u001b[0m \u001b[0me\u001b[0m\u001b[1;33m:\u001b[0m\u001b[1;33m\u001b[0m\u001b[0m\n",
      "\u001b[0;32mC:\\ProgramData\\Anaconda3\\lib\\site-packages\\OpenSSL\\SSL.py\u001b[0m in \u001b[0;36mrecv_into\u001b[0;34m(self, buffer, nbytes, flags)\u001b[0m\n\u001b[1;32m   1546\u001b[0m             \u001b[0mresult\u001b[0m \u001b[1;33m=\u001b[0m \u001b[0m_lib\u001b[0m\u001b[1;33m.\u001b[0m\u001b[0mSSL_read\u001b[0m\u001b[1;33m(\u001b[0m\u001b[0mself\u001b[0m\u001b[1;33m.\u001b[0m\u001b[0m_ssl\u001b[0m\u001b[1;33m,\u001b[0m \u001b[0mbuf\u001b[0m\u001b[1;33m,\u001b[0m \u001b[0mnbytes\u001b[0m\u001b[1;33m)\u001b[0m\u001b[1;33m\u001b[0m\u001b[0m\n\u001b[0;32m-> 1547\u001b[0;31m         \u001b[0mself\u001b[0m\u001b[1;33m.\u001b[0m\u001b[0m_raise_ssl_error\u001b[0m\u001b[1;33m(\u001b[0m\u001b[0mself\u001b[0m\u001b[1;33m.\u001b[0m\u001b[0m_ssl\u001b[0m\u001b[1;33m,\u001b[0m \u001b[0mresult\u001b[0m\u001b[1;33m)\u001b[0m\u001b[1;33m\u001b[0m\u001b[0m\n\u001b[0m\u001b[1;32m   1548\u001b[0m \u001b[1;33m\u001b[0m\u001b[0m\n",
      "\u001b[0;32mC:\\ProgramData\\Anaconda3\\lib\\site-packages\\OpenSSL\\SSL.py\u001b[0m in \u001b[0;36m_raise_ssl_error\u001b[0;34m(self, ssl, result)\u001b[0m\n\u001b[1;32m   1352\u001b[0m         \u001b[1;32mif\u001b[0m \u001b[0merror\u001b[0m \u001b[1;33m==\u001b[0m \u001b[0m_lib\u001b[0m\u001b[1;33m.\u001b[0m\u001b[0mSSL_ERROR_WANT_READ\u001b[0m\u001b[1;33m:\u001b[0m\u001b[1;33m\u001b[0m\u001b[0m\n\u001b[0;32m-> 1353\u001b[0;31m             \u001b[1;32mraise\u001b[0m \u001b[0mWantReadError\u001b[0m\u001b[1;33m(\u001b[0m\u001b[1;33m)\u001b[0m\u001b[1;33m\u001b[0m\u001b[0m\n\u001b[0m\u001b[1;32m   1354\u001b[0m         \u001b[1;32melif\u001b[0m \u001b[0merror\u001b[0m \u001b[1;33m==\u001b[0m \u001b[0m_lib\u001b[0m\u001b[1;33m.\u001b[0m\u001b[0mSSL_ERROR_WANT_WRITE\u001b[0m\u001b[1;33m:\u001b[0m\u001b[1;33m\u001b[0m\u001b[0m\n",
      "\u001b[0;31mWantReadError\u001b[0m: ",
      "\nDuring handling of the above exception, another exception occurred:\n",
      "\u001b[0;31mKeyboardInterrupt\u001b[0m                         Traceback (most recent call last)",
      "\u001b[0;32m<ipython-input-16-3836614e10d9>\u001b[0m in \u001b[0;36m<module>\u001b[0;34m()\u001b[0m\n\u001b[1;32m      1\u001b[0m \u001b[0mMyStreamListener\u001b[0m \u001b[1;33m=\u001b[0m \u001b[0mMyStreamListener\u001b[0m\u001b[1;33m(\u001b[0m\u001b[1;33m)\u001b[0m\u001b[1;33m\u001b[0m\u001b[0m\n\u001b[1;32m      2\u001b[0m \u001b[0mmyStream\u001b[0m \u001b[1;33m=\u001b[0m \u001b[0mtweepy\u001b[0m\u001b[1;33m.\u001b[0m\u001b[0mStream\u001b[0m\u001b[1;33m(\u001b[0m\u001b[0mauth\u001b[0m \u001b[1;33m=\u001b[0m \u001b[0mapi\u001b[0m\u001b[1;33m.\u001b[0m\u001b[0mauth\u001b[0m\u001b[1;33m,\u001b[0m \u001b[0mlistener\u001b[0m \u001b[1;33m=\u001b[0m \u001b[0mMyStreamListener\u001b[0m\u001b[1;33m)\u001b[0m\u001b[1;33m\u001b[0m\u001b[0m\n\u001b[0;32m----> 3\u001b[0;31m \u001b[0mmyStream\u001b[0m\u001b[1;33m.\u001b[0m\u001b[0mfilter\u001b[0m\u001b[1;33m(\u001b[0m\u001b[0mtrack\u001b[0m\u001b[1;33m=\u001b[0m\u001b[1;33m[\u001b[0m\u001b[1;34m'@dietaryasst'\u001b[0m\u001b[1;33m]\u001b[0m\u001b[1;33m)\u001b[0m\u001b[1;33m\u001b[0m\u001b[0m\n\u001b[0m",
      "\u001b[0;32mC:\\ProgramData\\Anaconda3\\lib\\site-packages\\tweepy\\streaming.py\u001b[0m in \u001b[0;36mfilter\u001b[0;34m(self, follow, track, async, locations, stall_warnings, languages, encoding, filter_level)\u001b[0m\n\u001b[1;32m    443\u001b[0m         \u001b[0mself\u001b[0m\u001b[1;33m.\u001b[0m\u001b[0msession\u001b[0m\u001b[1;33m.\u001b[0m\u001b[0mparams\u001b[0m \u001b[1;33m=\u001b[0m \u001b[1;33m{\u001b[0m\u001b[1;34m'delimited'\u001b[0m\u001b[1;33m:\u001b[0m \u001b[1;34m'length'\u001b[0m\u001b[1;33m}\u001b[0m\u001b[1;33m\u001b[0m\u001b[0m\n\u001b[1;32m    444\u001b[0m         \u001b[0mself\u001b[0m\u001b[1;33m.\u001b[0m\u001b[0mhost\u001b[0m \u001b[1;33m=\u001b[0m \u001b[1;34m'stream.twitter.com'\u001b[0m\u001b[1;33m\u001b[0m\u001b[0m\n\u001b[0;32m--> 445\u001b[0;31m         \u001b[0mself\u001b[0m\u001b[1;33m.\u001b[0m\u001b[0m_start\u001b[0m\u001b[1;33m(\u001b[0m\u001b[0masync\u001b[0m\u001b[1;33m)\u001b[0m\u001b[1;33m\u001b[0m\u001b[0m\n\u001b[0m\u001b[1;32m    446\u001b[0m \u001b[1;33m\u001b[0m\u001b[0m\n\u001b[1;32m    447\u001b[0m     def sitestream(self, follow, stall_warnings=False,\n",
      "\u001b[0;32mC:\\ProgramData\\Anaconda3\\lib\\site-packages\\tweepy\\streaming.py\u001b[0m in \u001b[0;36m_start\u001b[0;34m(self, async)\u001b[0m\n\u001b[1;32m    359\u001b[0m             \u001b[0mself\u001b[0m\u001b[1;33m.\u001b[0m\u001b[0m_thread\u001b[0m\u001b[1;33m.\u001b[0m\u001b[0mstart\u001b[0m\u001b[1;33m(\u001b[0m\u001b[1;33m)\u001b[0m\u001b[1;33m\u001b[0m\u001b[0m\n\u001b[1;32m    360\u001b[0m         \u001b[1;32melse\u001b[0m\u001b[1;33m:\u001b[0m\u001b[1;33m\u001b[0m\u001b[0m\n\u001b[0;32m--> 361\u001b[0;31m             \u001b[0mself\u001b[0m\u001b[1;33m.\u001b[0m\u001b[0m_run\u001b[0m\u001b[1;33m(\u001b[0m\u001b[1;33m)\u001b[0m\u001b[1;33m\u001b[0m\u001b[0m\n\u001b[0m\u001b[1;32m    362\u001b[0m \u001b[1;33m\u001b[0m\u001b[0m\n\u001b[1;32m    363\u001b[0m     \u001b[1;32mdef\u001b[0m \u001b[0mon_closed\u001b[0m\u001b[1;33m(\u001b[0m\u001b[0mself\u001b[0m\u001b[1;33m,\u001b[0m \u001b[0mresp\u001b[0m\u001b[1;33m)\u001b[0m\u001b[1;33m:\u001b[0m\u001b[1;33m\u001b[0m\u001b[0m\n",
      "\u001b[0;32mC:\\ProgramData\\Anaconda3\\lib\\site-packages\\tweepy\\streaming.py\u001b[0m in \u001b[0;36m_run\u001b[0;34m(self)\u001b[0m\n\u001b[1;32m    261\u001b[0m                     \u001b[0mself\u001b[0m\u001b[1;33m.\u001b[0m\u001b[0msnooze_time\u001b[0m \u001b[1;33m=\u001b[0m \u001b[0mself\u001b[0m\u001b[1;33m.\u001b[0m\u001b[0msnooze_time_step\u001b[0m\u001b[1;33m\u001b[0m\u001b[0m\n\u001b[1;32m    262\u001b[0m                     \u001b[0mself\u001b[0m\u001b[1;33m.\u001b[0m\u001b[0mlistener\u001b[0m\u001b[1;33m.\u001b[0m\u001b[0mon_connect\u001b[0m\u001b[1;33m(\u001b[0m\u001b[1;33m)\u001b[0m\u001b[1;33m\u001b[0m\u001b[0m\n\u001b[0;32m--> 263\u001b[0;31m                     \u001b[0mself\u001b[0m\u001b[1;33m.\u001b[0m\u001b[0m_read_loop\u001b[0m\u001b[1;33m(\u001b[0m\u001b[0mresp\u001b[0m\u001b[1;33m)\u001b[0m\u001b[1;33m\u001b[0m\u001b[0m\n\u001b[0m\u001b[1;32m    264\u001b[0m             \u001b[1;32mexcept\u001b[0m \u001b[1;33m(\u001b[0m\u001b[0mTimeout\u001b[0m\u001b[1;33m,\u001b[0m \u001b[0mssl\u001b[0m\u001b[1;33m.\u001b[0m\u001b[0mSSLError\u001b[0m\u001b[1;33m)\u001b[0m \u001b[1;32mas\u001b[0m \u001b[0mexc\u001b[0m\u001b[1;33m:\u001b[0m\u001b[1;33m\u001b[0m\u001b[0m\n\u001b[1;32m    265\u001b[0m                 \u001b[1;31m# This is still necessary, as a SSLError can actually be\u001b[0m\u001b[1;33m\u001b[0m\u001b[1;33m\u001b[0m\u001b[0m\n",
      "\u001b[0;32mC:\\ProgramData\\Anaconda3\\lib\\site-packages\\tweepy\\streaming.py\u001b[0m in \u001b[0;36m_read_loop\u001b[0;34m(self, resp)\u001b[0m\n\u001b[1;32m    311\u001b[0m             \u001b[0mlength\u001b[0m \u001b[1;33m=\u001b[0m \u001b[1;36m0\u001b[0m\u001b[1;33m\u001b[0m\u001b[0m\n\u001b[1;32m    312\u001b[0m             \u001b[1;32mwhile\u001b[0m \u001b[1;32mnot\u001b[0m \u001b[0mresp\u001b[0m\u001b[1;33m.\u001b[0m\u001b[0mraw\u001b[0m\u001b[1;33m.\u001b[0m\u001b[0mclosed\u001b[0m\u001b[1;33m:\u001b[0m\u001b[1;33m\u001b[0m\u001b[0m\n\u001b[0;32m--> 313\u001b[0;31m                 \u001b[0mline\u001b[0m \u001b[1;33m=\u001b[0m \u001b[0mbuf\u001b[0m\u001b[1;33m.\u001b[0m\u001b[0mread_line\u001b[0m\u001b[1;33m(\u001b[0m\u001b[1;33m)\u001b[0m\u001b[1;33m.\u001b[0m\u001b[0mstrip\u001b[0m\u001b[1;33m(\u001b[0m\u001b[1;33m)\u001b[0m\u001b[1;33m\u001b[0m\u001b[0m\n\u001b[0m\u001b[1;32m    314\u001b[0m                 \u001b[1;32mif\u001b[0m \u001b[1;32mnot\u001b[0m \u001b[0mline\u001b[0m\u001b[1;33m:\u001b[0m\u001b[1;33m\u001b[0m\u001b[0m\n\u001b[1;32m    315\u001b[0m                     \u001b[0mself\u001b[0m\u001b[1;33m.\u001b[0m\u001b[0mlistener\u001b[0m\u001b[1;33m.\u001b[0m\u001b[0mkeep_alive\u001b[0m\u001b[1;33m(\u001b[0m\u001b[1;33m)\u001b[0m  \u001b[1;31m# keep-alive new lines are expected\u001b[0m\u001b[1;33m\u001b[0m\u001b[0m\n",
      "\u001b[0;32mC:\\ProgramData\\Anaconda3\\lib\\site-packages\\tweepy\\streaming.py\u001b[0m in \u001b[0;36mread_line\u001b[0;34m(self, sep)\u001b[0m\n\u001b[1;32m    177\u001b[0m             \u001b[1;32melse\u001b[0m\u001b[1;33m:\u001b[0m\u001b[1;33m\u001b[0m\u001b[0m\n\u001b[1;32m    178\u001b[0m                 \u001b[0mstart\u001b[0m \u001b[1;33m=\u001b[0m \u001b[0mlen\u001b[0m\u001b[1;33m(\u001b[0m\u001b[0mself\u001b[0m\u001b[1;33m.\u001b[0m\u001b[0m_buffer\u001b[0m\u001b[1;33m)\u001b[0m\u001b[1;33m\u001b[0m\u001b[0m\n\u001b[0;32m--> 179\u001b[0;31m             \u001b[0mself\u001b[0m\u001b[1;33m.\u001b[0m\u001b[0m_buffer\u001b[0m \u001b[1;33m+=\u001b[0m \u001b[0mself\u001b[0m\u001b[1;33m.\u001b[0m\u001b[0m_stream\u001b[0m\u001b[1;33m.\u001b[0m\u001b[0mread\u001b[0m\u001b[1;33m(\u001b[0m\u001b[0mself\u001b[0m\u001b[1;33m.\u001b[0m\u001b[0m_chunk_size\u001b[0m\u001b[1;33m)\u001b[0m\u001b[1;33m\u001b[0m\u001b[0m\n\u001b[0m\u001b[1;32m    180\u001b[0m \u001b[1;33m\u001b[0m\u001b[0m\n\u001b[1;32m    181\u001b[0m     \u001b[1;32mdef\u001b[0m \u001b[0m_pop\u001b[0m\u001b[1;33m(\u001b[0m\u001b[0mself\u001b[0m\u001b[1;33m,\u001b[0m \u001b[0mlength\u001b[0m\u001b[1;33m)\u001b[0m\u001b[1;33m:\u001b[0m\u001b[1;33m\u001b[0m\u001b[0m\n",
      "\u001b[0;32mC:\\ProgramData\\Anaconda3\\lib\\site-packages\\requests\\packages\\urllib3\\response.py\u001b[0m in \u001b[0;36mread\u001b[0;34m(self, amt, decode_content, cache_content)\u001b[0m\n\u001b[1;32m    378\u001b[0m             \u001b[1;32melse\u001b[0m\u001b[1;33m:\u001b[0m\u001b[1;33m\u001b[0m\u001b[0m\n\u001b[1;32m    379\u001b[0m                 \u001b[0mcache_content\u001b[0m \u001b[1;33m=\u001b[0m \u001b[1;32mFalse\u001b[0m\u001b[1;33m\u001b[0m\u001b[0m\n\u001b[0;32m--> 380\u001b[0;31m                 \u001b[0mdata\u001b[0m \u001b[1;33m=\u001b[0m \u001b[0mself\u001b[0m\u001b[1;33m.\u001b[0m\u001b[0m_fp\u001b[0m\u001b[1;33m.\u001b[0m\u001b[0mread\u001b[0m\u001b[1;33m(\u001b[0m\u001b[0mamt\u001b[0m\u001b[1;33m)\u001b[0m\u001b[1;33m\u001b[0m\u001b[0m\n\u001b[0m\u001b[1;32m    381\u001b[0m                 \u001b[1;32mif\u001b[0m \u001b[0mamt\u001b[0m \u001b[1;33m!=\u001b[0m \u001b[1;36m0\u001b[0m \u001b[1;32mand\u001b[0m \u001b[1;32mnot\u001b[0m \u001b[0mdata\u001b[0m\u001b[1;33m:\u001b[0m  \u001b[1;31m# Platform-specific: Buggy versions of Python.\u001b[0m\u001b[1;33m\u001b[0m\u001b[0m\n\u001b[1;32m    382\u001b[0m                     \u001b[1;31m# Close the connection when no data is returned\u001b[0m\u001b[1;33m\u001b[0m\u001b[1;33m\u001b[0m\u001b[0m\n",
      "\u001b[0;32mC:\\ProgramData\\Anaconda3\\lib\\http\\client.py\u001b[0m in \u001b[0;36mread\u001b[0;34m(self, amt)\u001b[0m\n\u001b[1;32m    447\u001b[0m             \u001b[1;31m# Amount is given, implement using readinto\u001b[0m\u001b[1;33m\u001b[0m\u001b[1;33m\u001b[0m\u001b[0m\n\u001b[1;32m    448\u001b[0m             \u001b[0mb\u001b[0m \u001b[1;33m=\u001b[0m \u001b[0mbytearray\u001b[0m\u001b[1;33m(\u001b[0m\u001b[0mamt\u001b[0m\u001b[1;33m)\u001b[0m\u001b[1;33m\u001b[0m\u001b[0m\n\u001b[0;32m--> 449\u001b[0;31m             \u001b[0mn\u001b[0m \u001b[1;33m=\u001b[0m \u001b[0mself\u001b[0m\u001b[1;33m.\u001b[0m\u001b[0mreadinto\u001b[0m\u001b[1;33m(\u001b[0m\u001b[0mb\u001b[0m\u001b[1;33m)\u001b[0m\u001b[1;33m\u001b[0m\u001b[0m\n\u001b[0m\u001b[1;32m    450\u001b[0m             \u001b[1;32mreturn\u001b[0m \u001b[0mmemoryview\u001b[0m\u001b[1;33m(\u001b[0m\u001b[0mb\u001b[0m\u001b[1;33m)\u001b[0m\u001b[1;33m[\u001b[0m\u001b[1;33m:\u001b[0m\u001b[0mn\u001b[0m\u001b[1;33m]\u001b[0m\u001b[1;33m.\u001b[0m\u001b[0mtobytes\u001b[0m\u001b[1;33m(\u001b[0m\u001b[1;33m)\u001b[0m\u001b[1;33m\u001b[0m\u001b[0m\n\u001b[1;32m    451\u001b[0m         \u001b[1;32melse\u001b[0m\u001b[1;33m:\u001b[0m\u001b[1;33m\u001b[0m\u001b[0m\n",
      "\u001b[0;32mC:\\ProgramData\\Anaconda3\\lib\\http\\client.py\u001b[0m in \u001b[0;36mreadinto\u001b[0;34m(self, b)\u001b[0m\n\u001b[1;32m    481\u001b[0m \u001b[1;33m\u001b[0m\u001b[0m\n\u001b[1;32m    482\u001b[0m         \u001b[1;32mif\u001b[0m \u001b[0mself\u001b[0m\u001b[1;33m.\u001b[0m\u001b[0mchunked\u001b[0m\u001b[1;33m:\u001b[0m\u001b[1;33m\u001b[0m\u001b[0m\n\u001b[0;32m--> 483\u001b[0;31m             \u001b[1;32mreturn\u001b[0m \u001b[0mself\u001b[0m\u001b[1;33m.\u001b[0m\u001b[0m_readinto_chunked\u001b[0m\u001b[1;33m(\u001b[0m\u001b[0mb\u001b[0m\u001b[1;33m)\u001b[0m\u001b[1;33m\u001b[0m\u001b[0m\n\u001b[0m\u001b[1;32m    484\u001b[0m \u001b[1;33m\u001b[0m\u001b[0m\n\u001b[1;32m    485\u001b[0m         \u001b[1;32mif\u001b[0m \u001b[0mself\u001b[0m\u001b[1;33m.\u001b[0m\u001b[0mlength\u001b[0m \u001b[1;32mis\u001b[0m \u001b[1;32mnot\u001b[0m \u001b[1;32mNone\u001b[0m\u001b[1;33m:\u001b[0m\u001b[1;33m\u001b[0m\u001b[0m\n",
      "\u001b[0;32mC:\\ProgramData\\Anaconda3\\lib\\http\\client.py\u001b[0m in \u001b[0;36m_readinto_chunked\u001b[0;34m(self, b)\u001b[0m\n\u001b[1;32m    576\u001b[0m         \u001b[1;32mtry\u001b[0m\u001b[1;33m:\u001b[0m\u001b[1;33m\u001b[0m\u001b[0m\n\u001b[1;32m    577\u001b[0m             \u001b[1;32mwhile\u001b[0m \u001b[1;32mTrue\u001b[0m\u001b[1;33m:\u001b[0m\u001b[1;33m\u001b[0m\u001b[0m\n\u001b[0;32m--> 578\u001b[0;31m                 \u001b[0mchunk_left\u001b[0m \u001b[1;33m=\u001b[0m \u001b[0mself\u001b[0m\u001b[1;33m.\u001b[0m\u001b[0m_get_chunk_left\u001b[0m\u001b[1;33m(\u001b[0m\u001b[1;33m)\u001b[0m\u001b[1;33m\u001b[0m\u001b[0m\n\u001b[0m\u001b[1;32m    579\u001b[0m                 \u001b[1;32mif\u001b[0m \u001b[0mchunk_left\u001b[0m \u001b[1;32mis\u001b[0m \u001b[1;32mNone\u001b[0m\u001b[1;33m:\u001b[0m\u001b[1;33m\u001b[0m\u001b[0m\n\u001b[1;32m    580\u001b[0m                     \u001b[1;32mreturn\u001b[0m \u001b[0mtotal_bytes\u001b[0m\u001b[1;33m\u001b[0m\u001b[0m\n",
      "\u001b[0;32mC:\\ProgramData\\Anaconda3\\lib\\http\\client.py\u001b[0m in \u001b[0;36m_get_chunk_left\u001b[0;34m(self)\u001b[0m\n\u001b[1;32m    544\u001b[0m                 \u001b[0mself\u001b[0m\u001b[1;33m.\u001b[0m\u001b[0m_safe_read\u001b[0m\u001b[1;33m(\u001b[0m\u001b[1;36m2\u001b[0m\u001b[1;33m)\u001b[0m  \u001b[1;31m# toss the CRLF at the end of the chunk\u001b[0m\u001b[1;33m\u001b[0m\u001b[0m\n\u001b[1;32m    545\u001b[0m             \u001b[1;32mtry\u001b[0m\u001b[1;33m:\u001b[0m\u001b[1;33m\u001b[0m\u001b[0m\n\u001b[0;32m--> 546\u001b[0;31m                 \u001b[0mchunk_left\u001b[0m \u001b[1;33m=\u001b[0m \u001b[0mself\u001b[0m\u001b[1;33m.\u001b[0m\u001b[0m_read_next_chunk_size\u001b[0m\u001b[1;33m(\u001b[0m\u001b[1;33m)\u001b[0m\u001b[1;33m\u001b[0m\u001b[0m\n\u001b[0m\u001b[1;32m    547\u001b[0m             \u001b[1;32mexcept\u001b[0m \u001b[0mValueError\u001b[0m\u001b[1;33m:\u001b[0m\u001b[1;33m\u001b[0m\u001b[0m\n\u001b[1;32m    548\u001b[0m                 \u001b[1;32mraise\u001b[0m \u001b[0mIncompleteRead\u001b[0m\u001b[1;33m(\u001b[0m\u001b[1;34mb''\u001b[0m\u001b[1;33m)\u001b[0m\u001b[1;33m\u001b[0m\u001b[0m\n",
      "\u001b[0;32mC:\\ProgramData\\Anaconda3\\lib\\http\\client.py\u001b[0m in \u001b[0;36m_read_next_chunk_size\u001b[0;34m(self)\u001b[0m\n\u001b[1;32m    504\u001b[0m     \u001b[1;32mdef\u001b[0m \u001b[0m_read_next_chunk_size\u001b[0m\u001b[1;33m(\u001b[0m\u001b[0mself\u001b[0m\u001b[1;33m)\u001b[0m\u001b[1;33m:\u001b[0m\u001b[1;33m\u001b[0m\u001b[0m\n\u001b[1;32m    505\u001b[0m         \u001b[1;31m# Read the next chunk size from the file\u001b[0m\u001b[1;33m\u001b[0m\u001b[1;33m\u001b[0m\u001b[0m\n\u001b[0;32m--> 506\u001b[0;31m         \u001b[0mline\u001b[0m \u001b[1;33m=\u001b[0m \u001b[0mself\u001b[0m\u001b[1;33m.\u001b[0m\u001b[0mfp\u001b[0m\u001b[1;33m.\u001b[0m\u001b[0mreadline\u001b[0m\u001b[1;33m(\u001b[0m\u001b[0m_MAXLINE\u001b[0m \u001b[1;33m+\u001b[0m \u001b[1;36m1\u001b[0m\u001b[1;33m)\u001b[0m\u001b[1;33m\u001b[0m\u001b[0m\n\u001b[0m\u001b[1;32m    507\u001b[0m         \u001b[1;32mif\u001b[0m \u001b[0mlen\u001b[0m\u001b[1;33m(\u001b[0m\u001b[0mline\u001b[0m\u001b[1;33m)\u001b[0m \u001b[1;33m>\u001b[0m \u001b[0m_MAXLINE\u001b[0m\u001b[1;33m:\u001b[0m\u001b[1;33m\u001b[0m\u001b[0m\n\u001b[1;32m    508\u001b[0m             \u001b[1;32mraise\u001b[0m \u001b[0mLineTooLong\u001b[0m\u001b[1;33m(\u001b[0m\u001b[1;34m\"chunk size\"\u001b[0m\u001b[1;33m)\u001b[0m\u001b[1;33m\u001b[0m\u001b[0m\n",
      "\u001b[0;32mC:\\ProgramData\\Anaconda3\\lib\\socket.py\u001b[0m in \u001b[0;36mreadinto\u001b[0;34m(self, b)\u001b[0m\n\u001b[1;32m    584\u001b[0m         \u001b[1;32mwhile\u001b[0m \u001b[1;32mTrue\u001b[0m\u001b[1;33m:\u001b[0m\u001b[1;33m\u001b[0m\u001b[0m\n\u001b[1;32m    585\u001b[0m             \u001b[1;32mtry\u001b[0m\u001b[1;33m:\u001b[0m\u001b[1;33m\u001b[0m\u001b[0m\n\u001b[0;32m--> 586\u001b[0;31m                 \u001b[1;32mreturn\u001b[0m \u001b[0mself\u001b[0m\u001b[1;33m.\u001b[0m\u001b[0m_sock\u001b[0m\u001b[1;33m.\u001b[0m\u001b[0mrecv_into\u001b[0m\u001b[1;33m(\u001b[0m\u001b[0mb\u001b[0m\u001b[1;33m)\u001b[0m\u001b[1;33m\u001b[0m\u001b[0m\n\u001b[0m\u001b[1;32m    587\u001b[0m             \u001b[1;32mexcept\u001b[0m \u001b[0mtimeout\u001b[0m\u001b[1;33m:\u001b[0m\u001b[1;33m\u001b[0m\u001b[0m\n\u001b[1;32m    588\u001b[0m                 \u001b[0mself\u001b[0m\u001b[1;33m.\u001b[0m\u001b[0m_timeout_occurred\u001b[0m \u001b[1;33m=\u001b[0m \u001b[1;32mTrue\u001b[0m\u001b[1;33m\u001b[0m\u001b[0m\n",
      "\u001b[0;32mC:\\ProgramData\\Anaconda3\\lib\\site-packages\\requests\\packages\\urllib3\\contrib\\pyopenssl.py\u001b[0m in \u001b[0;36mrecv_into\u001b[0;34m(self, *args, **kwargs)\u001b[0m\n\u001b[1;32m    267\u001b[0m         \u001b[1;32mexcept\u001b[0m \u001b[0mOpenSSL\u001b[0m\u001b[1;33m.\u001b[0m\u001b[0mSSL\u001b[0m\u001b[1;33m.\u001b[0m\u001b[0mWantReadError\u001b[0m\u001b[1;33m:\u001b[0m\u001b[1;33m\u001b[0m\u001b[0m\n\u001b[1;32m    268\u001b[0m             rd, wd, ed = select.select(\n\u001b[0;32m--> 269\u001b[0;31m                 [self.socket], [], [], self.socket.gettimeout())\n\u001b[0m\u001b[1;32m    270\u001b[0m             \u001b[1;32mif\u001b[0m \u001b[1;32mnot\u001b[0m \u001b[0mrd\u001b[0m\u001b[1;33m:\u001b[0m\u001b[1;33m\u001b[0m\u001b[0m\n\u001b[1;32m    271\u001b[0m                 \u001b[1;32mraise\u001b[0m \u001b[0mtimeout\u001b[0m\u001b[1;33m(\u001b[0m\u001b[1;34m'The read operation timed out'\u001b[0m\u001b[1;33m)\u001b[0m\u001b[1;33m\u001b[0m\u001b[0m\n",
      "\u001b[0;31mKeyboardInterrupt\u001b[0m: "
     ]
    }
   ],
   "source": [
    "MyStreamListener = MyStreamListener()\n",
    "myStream = tweepy.Stream(auth = api.auth, listener = MyStreamListener)\n",
    "myStream.filter(track=['@dietaryasst'])"
   ]
  },
  {
   "cell_type": "code",
   "execution_count": 136,
   "metadata": {
    "collapsed": true
   },
   "outputs": [],
   "source": [
    "myStream.disconnect()"
   ]
  },
  {
   "cell_type": "code",
   "execution_count": null,
   "metadata": {
    "collapsed": true
   },
   "outputs": [],
   "source": []
  },
  {
   "cell_type": "code",
   "execution_count": null,
   "metadata": {
    "collapsed": true
   },
   "outputs": [],
   "source": []
  }
 ],
 "metadata": {
  "kernelspec": {
   "display_name": "Python 3",
   "language": "python",
   "name": "python3"
  },
  "language_info": {
   "codemirror_mode": {
    "name": "ipython",
    "version": 3
   },
   "file_extension": ".py",
   "mimetype": "text/x-python",
   "name": "python",
   "nbconvert_exporter": "python",
   "pygments_lexer": "ipython3",
   "version": "3.6.0"
  }
 },
 "nbformat": 4,
 "nbformat_minor": 2
}
